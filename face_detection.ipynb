{
 "cells": [
  {
   "cell_type": "code",
   "execution_count": 1,
   "source": [
    "import cv2\r\n",
    "\r\n",
    "import  tkinter as tk\r\n",
    "from tkinter import filedialog\r\n",
    "\r\n",
    "root = tk.Tk()\r\n",
    "root.withdraw()\r\n",
    "file_path = filedialog.askopenfilename(filetypes=[(\"ALL PNG FILES\",\".png\"),(\"ALL JPG FILES\",\".jpg\"),(\"ALL JPEG FILES\",\".jpeg\"),(\"ALL GIF FILES\",\".gif\")])\r\n",
    "\r\n",
    "\r\n",
    "#get user input\r\n",
    "imagePath =  file_path\r\n",
    "# cascPath = \"haarcascade_frontalface_default.xml\"\r\n",
    "\r\n",
    "#create the haar cascade\r\n",
    "face_cascade = cv2.CascadeClassifier(cv2.data.haarcascades + 'haarcascade_frontalface_default.xml')\r\n",
    "\r\n",
    "#readImage\r\n",
    "image = cv2.imread(imagePath)\r\n",
    "gray = cv2.cvtColor(image,cv2.COLOR_BGR2GRAY)\r\n",
    "\r\n",
    "#detectfaces\r\n",
    "faces = face_cascade.detectMultiScale(gray, 1.1, 4)\r\n",
    "\r\n",
    "print(\"Found {0} faces!\".format(len(faces)))\r\n",
    "\r\n",
    "#draw rect around faces\r\n",
    "for (x,y,w,h) in faces:\r\n",
    "    cv2.rectangle(image, (x, y), (x+w, y+h), (0, 255, 0), 2)\r\n",
    "\r\n",
    "# Display the output\r\n",
    "cv2.imshow('Faces Found!', image)\r\n",
    "cv2.waitKey()"
   ],
   "outputs": [],
   "metadata": {}
  },
  {
   "cell_type": "code",
   "execution_count": null,
   "source": [],
   "outputs": [],
   "metadata": {}
  }
 ],
 "metadata": {
  "kernelspec": {
   "name": "python3",
   "display_name": "Python 3.9.5 64-bit"
  },
  "language_info": {
   "codemirror_mode": {
    "name": "ipython",
    "version": 3
   },
   "file_extension": ".py",
   "mimetype": "text/x-python",
   "name": "python",
   "nbconvert_exporter": "python",
   "pygments_lexer": "ipython3",
   "version": "3.9.5"
  },
  "interpreter": {
   "hash": "e7eb893cbb496da52fd91ee7d3788684913c869f585f293a3547ff3605fe438a"
  }
 },
 "nbformat": 4,
 "nbformat_minor": 5
}